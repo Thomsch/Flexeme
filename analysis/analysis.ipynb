{
 "cells": [
  {
   "cell_type": "code",
   "execution_count": 1,
   "metadata": {
    "collapsed": true,
    "ExecuteTime": {
     "start_time": "2023-05-08T11:22:15.786308Z",
     "end_time": "2023-05-08T11:22:18.674720Z"
    }
   },
   "outputs": [
    {
     "data": {
      "text/plain": "                                            Datapoint  Concepts  Accuracy  \\\n0   b2f1757bf9ec1632a940b9a2e65a1a022ba54af8_b2bba...         2  0.486838   \n1   7f89bd4850b7a5b0dd2a10d2f2daa62805de5bca_7e512...         1  1.000000   \n2   7f89bd4850b7a5b0dd2a10d2f2daa62805de5bca_e4b58...         2  0.400208   \n3   7f89bd4850b7a5b0dd2a10d2f2daa62805de5bca_0ac77...         3  0.465347   \n4   e4b58afe49b8232e0c7a1e051a6cb8580b14d6b6_0ac77...         2  0.458333   \n..                                                ...       ...       ...   \n62  7db787317115fc706deb42cdc623d0b5324375d0_ec6e7...         2  0.460733   \n63  7db787317115fc706deb42cdc623d0b5324375d0_a7a93...         3  0.446994   \n64  9be879e558515f40ab79ce55944919f370f5c865_c52cb...         2  0.703704   \n65  ea67740bc7bdfe700ec02bb27e5670541b1ecbf2_75190...         2  0.473279   \n66  ea67740bc7bdfe700ec02bb27e5670541b1ecbf2_4ff49...         3  0.423454   \n\n     Overlap          Time Project  Method  \n0   0.463512  11992.026108    Lang  Heddle  \n1        NaN      0.023416    Lang  Heddle  \n2   0.360222   1121.999110    Lang  Heddle  \n3   0.433896   1260.897975    Lang  Heddle  \n4   0.277778      2.921547    Lang  Heddle  \n..       ...           ...     ...     ...  \n62  0.406806    981.921540    Joda  Heddle  \n63  0.404455   1718.845119    Joda  Heddle  \n64       NaN      0.673299    Joda  Heddle  \n65  0.450378   5168.310653    Joda  Heddle  \n66  0.398386  49281.788308    Joda  Heddle  \n\n[64 rows x 7 columns]",
      "text/html": "<div>\n<style scoped>\n    .dataframe tbody tr th:only-of-type {\n        vertical-align: middle;\n    }\n\n    .dataframe tbody tr th {\n        vertical-align: top;\n    }\n\n    .dataframe thead th {\n        text-align: right;\n    }\n</style>\n<table border=\"1\" class=\"dataframe\">\n  <thead>\n    <tr style=\"text-align: right;\">\n      <th></th>\n      <th>Datapoint</th>\n      <th>Concepts</th>\n      <th>Accuracy</th>\n      <th>Overlap</th>\n      <th>Time</th>\n      <th>Project</th>\n      <th>Method</th>\n    </tr>\n  </thead>\n  <tbody>\n    <tr>\n      <th>0</th>\n      <td>b2f1757bf9ec1632a940b9a2e65a1a022ba54af8_b2bba...</td>\n      <td>2</td>\n      <td>0.486838</td>\n      <td>0.463512</td>\n      <td>11992.026108</td>\n      <td>Lang</td>\n      <td>Heddle</td>\n    </tr>\n    <tr>\n      <th>1</th>\n      <td>7f89bd4850b7a5b0dd2a10d2f2daa62805de5bca_7e512...</td>\n      <td>1</td>\n      <td>1.000000</td>\n      <td>NaN</td>\n      <td>0.023416</td>\n      <td>Lang</td>\n      <td>Heddle</td>\n    </tr>\n    <tr>\n      <th>2</th>\n      <td>7f89bd4850b7a5b0dd2a10d2f2daa62805de5bca_e4b58...</td>\n      <td>2</td>\n      <td>0.400208</td>\n      <td>0.360222</td>\n      <td>1121.999110</td>\n      <td>Lang</td>\n      <td>Heddle</td>\n    </tr>\n    <tr>\n      <th>3</th>\n      <td>7f89bd4850b7a5b0dd2a10d2f2daa62805de5bca_0ac77...</td>\n      <td>3</td>\n      <td>0.465347</td>\n      <td>0.433896</td>\n      <td>1260.897975</td>\n      <td>Lang</td>\n      <td>Heddle</td>\n    </tr>\n    <tr>\n      <th>4</th>\n      <td>e4b58afe49b8232e0c7a1e051a6cb8580b14d6b6_0ac77...</td>\n      <td>2</td>\n      <td>0.458333</td>\n      <td>0.277778</td>\n      <td>2.921547</td>\n      <td>Lang</td>\n      <td>Heddle</td>\n    </tr>\n    <tr>\n      <th>...</th>\n      <td>...</td>\n      <td>...</td>\n      <td>...</td>\n      <td>...</td>\n      <td>...</td>\n      <td>...</td>\n      <td>...</td>\n    </tr>\n    <tr>\n      <th>62</th>\n      <td>7db787317115fc706deb42cdc623d0b5324375d0_ec6e7...</td>\n      <td>2</td>\n      <td>0.460733</td>\n      <td>0.406806</td>\n      <td>981.921540</td>\n      <td>Joda</td>\n      <td>Heddle</td>\n    </tr>\n    <tr>\n      <th>63</th>\n      <td>7db787317115fc706deb42cdc623d0b5324375d0_a7a93...</td>\n      <td>3</td>\n      <td>0.446994</td>\n      <td>0.404455</td>\n      <td>1718.845119</td>\n      <td>Joda</td>\n      <td>Heddle</td>\n    </tr>\n    <tr>\n      <th>64</th>\n      <td>9be879e558515f40ab79ce55944919f370f5c865_c52cb...</td>\n      <td>2</td>\n      <td>0.703704</td>\n      <td>NaN</td>\n      <td>0.673299</td>\n      <td>Joda</td>\n      <td>Heddle</td>\n    </tr>\n    <tr>\n      <th>65</th>\n      <td>ea67740bc7bdfe700ec02bb27e5670541b1ecbf2_75190...</td>\n      <td>2</td>\n      <td>0.473279</td>\n      <td>0.450378</td>\n      <td>5168.310653</td>\n      <td>Joda</td>\n      <td>Heddle</td>\n    </tr>\n    <tr>\n      <th>66</th>\n      <td>ea67740bc7bdfe700ec02bb27e5670541b1ecbf2_4ff49...</td>\n      <td>3</td>\n      <td>0.423454</td>\n      <td>0.398386</td>\n      <td>49281.788308</td>\n      <td>Joda</td>\n      <td>Heddle</td>\n    </tr>\n  </tbody>\n</table>\n<p>64 rows × 7 columns</p>\n</div>"
     },
     "execution_count": 1,
     "metadata": {},
     "output_type": "execute_result"
    }
   ],
   "source": [
    "import pandas as pd\n",
    "\n",
    "COLUMN_NAMES = ['Datapoint', 'Concepts', 'Accuracy', 'Overlap', 'Time']\n",
    "\n",
    "# df = pd.DataFrame(data=[], columns=COLUMN_NAMES)\n",
    "# temp_df = pd.read_csv(\"wl_all_2_results_raw.csv\", names=COLUMN_NAMES)\n",
    "\n",
    "lang_df = pd.read_csv(\"commons-lang-synth.csv\", names=COLUMN_NAMES)\n",
    "math_df = pd.read_csv(\"commons-math-synth.csv\", names=COLUMN_NAMES)\n",
    "joda_df = pd.read_csv(\"joda-time-synth.csv\", names=COLUMN_NAMES)\n",
    "\n",
    "lang_df['Project'] = \"Lang\"\n",
    "math_df['Project'] = \"Math\"\n",
    "joda_df['Project'] = \"Joda\"\n",
    "\n",
    "df = pd.concat([lang_df, math_df, joda_df], ignore_index=True, sort=False)\n",
    "df['Method'] = \"Heddle\"\n",
    "\n",
    "project = \"Lang\"\n",
    "method = \"Heddle\"\n",
    "\n",
    "# temp_df['Project'] = pd.Series([project]*len(temp_df.index))\n",
    "# temp_df['Method'] = pd.Series([method]*len(temp_df.index))\n",
    "\n",
    "# df = df.append(temp_df, sort=False)\n",
    "\n",
    "df = df[df.Accuracy.notna()]\n",
    "# Sadly we have too few examples of succesful 4-commit-tangles for results\n",
    "# to be statistically meaningful (len(df[df.Concepts == 4]) == 10)\n",
    "df = df[df.Concepts < 4]\n",
    "\n",
    "# This avoid a div by 0 later, but this also means we have to manually set the ylim in plots\n",
    "df[\"Time\"] = df.apply(lambda row: row[\"Time\"] if row[\"Time\"] > 0 else row[\"Time\"] + 1e-31,\n",
    "                      axis=1)\n",
    "df"
   ]
  },
  {
   "cell_type": "code",
   "execution_count": 3,
   "outputs": [
    {
     "name": "stderr",
     "output_type": "stream",
     "text": [
      "/var/folders/95/72xs2mfn5tv8sgfyd51fcnnr0000gn/T/ipykernel_17773/551725955.py:1: FutureWarning: The default value of numeric_only in DataFrameGroupBy.median is deprecated. In a future version, numeric_only will default to False. Either specify numeric_only or select only columns which should be valid for the function.\n",
      "  df.groupby(['Project', 'Concepts']).median()\n"
     ]
    },
    {
     "data": {
      "text/plain": "                  Accuracy   Overlap         Time\nProject Concepts                                 \nJoda    1         0.853535  0.535354   118.966689\n        2         0.480829  0.396253   861.797508\n        3         0.446994  0.380096  1718.845119\nLang    1         0.605697  0.476744     8.780415\n        2         0.449167  0.314794    41.735858\n        3         0.442308  0.328125   149.150950\nMath    1         0.410053  0.325775  3628.952273\n        2         0.475494  0.400564   189.655388",
      "text/html": "<div>\n<style scoped>\n    .dataframe tbody tr th:only-of-type {\n        vertical-align: middle;\n    }\n\n    .dataframe tbody tr th {\n        vertical-align: top;\n    }\n\n    .dataframe thead th {\n        text-align: right;\n    }\n</style>\n<table border=\"1\" class=\"dataframe\">\n  <thead>\n    <tr style=\"text-align: right;\">\n      <th></th>\n      <th></th>\n      <th>Accuracy</th>\n      <th>Overlap</th>\n      <th>Time</th>\n    </tr>\n    <tr>\n      <th>Project</th>\n      <th>Concepts</th>\n      <th></th>\n      <th></th>\n      <th></th>\n    </tr>\n  </thead>\n  <tbody>\n    <tr>\n      <th rowspan=\"3\" valign=\"top\">Joda</th>\n      <th>1</th>\n      <td>0.853535</td>\n      <td>0.535354</td>\n      <td>118.966689</td>\n    </tr>\n    <tr>\n      <th>2</th>\n      <td>0.480829</td>\n      <td>0.396253</td>\n      <td>861.797508</td>\n    </tr>\n    <tr>\n      <th>3</th>\n      <td>0.446994</td>\n      <td>0.380096</td>\n      <td>1718.845119</td>\n    </tr>\n    <tr>\n      <th rowspan=\"3\" valign=\"top\">Lang</th>\n      <th>1</th>\n      <td>0.605697</td>\n      <td>0.476744</td>\n      <td>8.780415</td>\n    </tr>\n    <tr>\n      <th>2</th>\n      <td>0.449167</td>\n      <td>0.314794</td>\n      <td>41.735858</td>\n    </tr>\n    <tr>\n      <th>3</th>\n      <td>0.442308</td>\n      <td>0.328125</td>\n      <td>149.150950</td>\n    </tr>\n    <tr>\n      <th rowspan=\"2\" valign=\"top\">Math</th>\n      <th>1</th>\n      <td>0.410053</td>\n      <td>0.325775</td>\n      <td>3628.952273</td>\n    </tr>\n    <tr>\n      <th>2</th>\n      <td>0.475494</td>\n      <td>0.400564</td>\n      <td>189.655388</td>\n    </tr>\n  </tbody>\n</table>\n</div>"
     },
     "execution_count": 3,
     "metadata": {},
     "output_type": "execute_result"
    }
   ],
   "source": [
    "df.groupby(['Project', 'Concepts']).median()"
   ],
   "metadata": {
    "collapsed": false,
    "ExecuteTime": {
     "start_time": "2023-05-08T11:25:34.172249Z",
     "end_time": "2023-05-08T11:25:34.204684Z"
    }
   }
  },
  {
   "cell_type": "code",
   "execution_count": 4,
   "outputs": [
    {
     "name": "stderr",
     "output_type": "stream",
     "text": [
      "/var/folders/95/72xs2mfn5tv8sgfyd51fcnnr0000gn/T/ipykernel_17773/3095149599.py:7: FutureWarning: The frame.append method is deprecated and will be removed from pandas in a future version. Use pandas.concat instead.\n",
      "  results_df = results_df.append(temp_df, ignore_index=True, sort=False)\n",
      "/var/folders/95/72xs2mfn5tv8sgfyd51fcnnr0000gn/T/ipykernel_17773/3095149599.py:12: FutureWarning: The frame.append method is deprecated and will be removed from pandas in a future version. Use pandas.concat instead.\n",
      "  results_df = results_df.append(temp_df, ignore_index=True, sort=False)\n",
      "/var/folders/95/72xs2mfn5tv8sgfyd51fcnnr0000gn/T/ipykernel_17773/3095149599.py:14: FutureWarning: The default value of numeric_only in DataFrameGroupBy.median is deprecated. In a future version, numeric_only will default to False. Either specify numeric_only or select only columns which should be valid for the function.\n",
      "  results_df.groupby([\"Method\", \"Project\", \"Concepts\"]).median()\n"
     ]
    },
    {
     "data": {
      "text/plain": "                         Accuracy         Time\nMethod Project Concepts                       \nHeddle Joda    -1        0.463799   864.367437\n                2        0.480829   861.797508\n                3        0.446994  1718.845119\n       Lang    -1        0.442308    48.374516\n                2        0.449167    41.735858\n                3        0.442308   149.150950\n       Math    -1        0.475494   189.655388\n                2        0.475494   189.655388\n       Overall -1        0.458333   149.150950\n                2        0.465318   125.105787\n                3        0.444651   252.746992",
      "text/html": "<div>\n<style scoped>\n    .dataframe tbody tr th:only-of-type {\n        vertical-align: middle;\n    }\n\n    .dataframe tbody tr th {\n        vertical-align: top;\n    }\n\n    .dataframe thead th {\n        text-align: right;\n    }\n</style>\n<table border=\"1\" class=\"dataframe\">\n  <thead>\n    <tr style=\"text-align: right;\">\n      <th></th>\n      <th></th>\n      <th></th>\n      <th>Accuracy</th>\n      <th>Time</th>\n    </tr>\n    <tr>\n      <th>Method</th>\n      <th>Project</th>\n      <th>Concepts</th>\n      <th></th>\n      <th></th>\n    </tr>\n  </thead>\n  <tbody>\n    <tr>\n      <th rowspan=\"11\" valign=\"top\">Heddle</th>\n      <th rowspan=\"3\" valign=\"top\">Joda</th>\n      <th>-1</th>\n      <td>0.463799</td>\n      <td>864.367437</td>\n    </tr>\n    <tr>\n      <th>2</th>\n      <td>0.480829</td>\n      <td>861.797508</td>\n    </tr>\n    <tr>\n      <th>3</th>\n      <td>0.446994</td>\n      <td>1718.845119</td>\n    </tr>\n    <tr>\n      <th rowspan=\"3\" valign=\"top\">Lang</th>\n      <th>-1</th>\n      <td>0.442308</td>\n      <td>48.374516</td>\n    </tr>\n    <tr>\n      <th>2</th>\n      <td>0.449167</td>\n      <td>41.735858</td>\n    </tr>\n    <tr>\n      <th>3</th>\n      <td>0.442308</td>\n      <td>149.150950</td>\n    </tr>\n    <tr>\n      <th rowspan=\"2\" valign=\"top\">Math</th>\n      <th>-1</th>\n      <td>0.475494</td>\n      <td>189.655388</td>\n    </tr>\n    <tr>\n      <th>2</th>\n      <td>0.475494</td>\n      <td>189.655388</td>\n    </tr>\n    <tr>\n      <th rowspan=\"3\" valign=\"top\">Overall</th>\n      <th>-1</th>\n      <td>0.458333</td>\n      <td>149.150950</td>\n    </tr>\n    <tr>\n      <th>2</th>\n      <td>0.465318</td>\n      <td>125.105787</td>\n    </tr>\n    <tr>\n      <th>3</th>\n      <td>0.444651</td>\n      <td>252.746992</td>\n    </tr>\n  </tbody>\n</table>\n</div>"
     },
     "execution_count": 4,
     "metadata": {},
     "output_type": "execute_result"
    }
   ],
   "source": [
    "results_df = df[df.Concepts > 1].drop([\"Overlap\"],axis=1).copy()\n",
    "\n",
    "\n",
    "temp_df = results_df[results_df.Method == method].drop([\"Project\"], axis = 1)\n",
    "temp_df.index = range(len(temp_df.index))\n",
    "temp_df['Project'] = pd.Series([\"Overall\"]*len(temp_df.index), index=temp_df.index)\n",
    "results_df = results_df.append(temp_df, ignore_index=True, sort=False)\n",
    "\n",
    "temp_df = results_df[results_df.Method == method].drop([\"Concepts\"], axis = 1)\n",
    "temp_df.index = range(len(temp_df.index))\n",
    "temp_df['Concepts'] = pd.Series([-1]*len(temp_df.index))\n",
    "results_df = results_df.append(temp_df, ignore_index=True, sort=False)\n",
    "\n",
    "results_df.groupby([\"Method\", \"Project\", \"Concepts\"]).median()"
   ],
   "metadata": {
    "collapsed": false,
    "ExecuteTime": {
     "start_time": "2023-05-08T11:25:46.977881Z",
     "end_time": "2023-05-08T11:25:47.017378Z"
    }
   }
  },
  {
   "cell_type": "code",
   "execution_count": 16,
   "outputs": [],
   "source": [],
   "metadata": {
    "collapsed": false
   }
  }
 ],
 "metadata": {
  "kernelspec": {
   "display_name": "Python 3",
   "language": "python",
   "name": "python3"
  },
  "language_info": {
   "codemirror_mode": {
    "name": "ipython",
    "version": 2
   },
   "file_extension": ".py",
   "mimetype": "text/x-python",
   "name": "python",
   "nbconvert_exporter": "python",
   "pygments_lexer": "ipython2",
   "version": "2.7.6"
  }
 },
 "nbformat": 4,
 "nbformat_minor": 0
}
